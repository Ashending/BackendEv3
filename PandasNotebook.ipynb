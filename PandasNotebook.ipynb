{
 "cells": [
  {
   "cell_type": "code",
   "execution_count": 13,
   "id": "914fb20d-a361-4e51-92d3-6575449b9aea",
   "metadata": {},
   "outputs": [
    {
     "name": "stdout",
     "output_type": "stream",
     "text": [
      "        Cliente_ID         Edad         Saldo       Activo  \\\n",
      "count  5500.000000  4947.000000   4944.000000  4949.000000   \n",
      "mean   2501.484000    48.672125  50633.557081     0.499091   \n",
      "std    1441.478876    18.153812  28633.271465     0.500050   \n",
      "min       1.000000    18.000000   1079.450000     0.000000   \n",
      "25%    1254.750000    33.000000  26193.077500     0.000000   \n",
      "50%    2511.500000    49.000000  50715.930000     0.000000   \n",
      "75%    3749.250000    65.000000  75300.707500     1.000000   \n",
      "max    5000.000000    79.000000  99960.220000     1.000000   \n",
      "\n",
      "       Nivel_de_Satisfaccion  \n",
      "count            4947.000000  \n",
      "mean                3.006873  \n",
      "std                 1.404585  \n",
      "min                 1.000000  \n",
      "25%                 2.000000  \n",
      "50%                 3.000000  \n",
      "75%                 4.000000  \n",
      "max                 5.000000  \n",
      "<class 'pandas.core.frame.DataFrame'>\n",
      "RangeIndex: 5500 entries, 0 to 5499\n",
      "Data columns (total 6 columns):\n",
      " #   Column                 Non-Null Count  Dtype  \n",
      "---  ------                 --------------  -----  \n",
      " 0   Cliente_ID             5500 non-null   int64  \n",
      " 1   Edad                   4947 non-null   float64\n",
      " 2   Genero                 4953 non-null   object \n",
      " 3   Saldo                  4944 non-null   float64\n",
      " 4   Activo                 4949 non-null   float64\n",
      " 5   Nivel_de_Satisfaccion  4947 non-null   float64\n",
      "dtypes: float64(4), int64(1), object(1)\n",
      "memory usage: 257.9+ KB\n",
      "None\n",
      "   Cliente_ID  Edad     Genero     Saldo  Activo  Nivel_de_Satisfaccion\n",
      "0           1  24.0        NaN  72699.44     1.0                    4.0\n",
      "1           2  52.0   Femenino  15084.72     1.0                    2.0\n",
      "2           3  44.0   Femenino  44786.12     0.0                    5.0\n",
      "3           4  27.0        NaN  94585.26     0.0                    2.0\n",
      "4           5  56.0  Masculino  81708.46     NaN                    5.0\n"
     ]
    }
   ],
   "source": [
    "import pandas as pd\n",
    "\n",
    "df = pd.read_csv('./res/clientes_banco.csv')\n",
    "\n",
    "print(df.describe())\n",
    "print(df.info())\n",
    "print(df.head())"
   ]
  },
  {
   "cell_type": "code",
   "execution_count": 8,
   "id": "6e2e5403-543a-416d-a8cb-ad7f2427c75d",
   "metadata": {},
   "outputs": [
    {
     "name": "stdout",
     "output_type": "stream",
     "text": [
      "Valores nulos en id cliente: 0\n",
      "Valores repetidos en id cliente: 500\n"
     ]
    }
   ],
   "source": [
    "print(f\"Valores nulos en id cliente: {df['Cliente_ID'].isnull().sum()}\")\n",
    "print(f\"Valores repetidos en id cliente: {df['Cliente_ID'].duplicated().sum()}\")"
   ]
  },
  {
   "cell_type": "code",
   "execution_count": 11,
   "id": "a3eac9f6-7ef5-43a9-aa46-26de97421218",
   "metadata": {},
   "outputs": [
    {
     "name": "stdout",
     "output_type": "stream",
     "text": [
      "        Cliente_ID         Edad         Saldo       Activo  \\\n",
      "count  5000.000000  4500.000000   4500.000000  4500.000000   \n",
      "mean   2500.500000    48.719333  50743.771449     0.494667   \n",
      "std    1443.520003    18.132912  28606.891613     0.500027   \n",
      "min       1.000000    18.000000   1079.450000     0.000000   \n",
      "25%    1250.750000    33.000000  26207.467500     0.000000   \n",
      "50%    2500.500000    49.000000  50951.305000     0.000000   \n",
      "75%    3750.250000    65.000000  75347.030000     1.000000   \n",
      "max    5000.000000    79.000000  99960.220000     1.000000   \n",
      "\n",
      "       Nivel_de_Satisfaccion  \n",
      "count            4500.000000  \n",
      "mean                3.009333  \n",
      "std                 1.404721  \n",
      "min                 1.000000  \n",
      "25%                 2.000000  \n",
      "50%                 3.000000  \n",
      "75%                 4.000000  \n",
      "max                 5.000000  \n"
     ]
    }
   ],
   "source": [
    "df = df.drop_duplicates(subset=['Cliente_ID'])\n",
    "print(df.describe())"
   ]
  },
  {
   "cell_type": "code",
   "execution_count": 15,
   "id": "3860ce0a-71a9-460f-84f7-8d0b820267cc",
   "metadata": {},
   "outputs": [
    {
     "name": "stdout",
     "output_type": "stream",
     "text": [
      "Valores nulos edad: 553\n",
      "Valores nulos genero: 547\n",
      "Valores nulos aldo: 556\n",
      "Valores nulos activo: 551\n",
      "Valores nulos nivel de satisfaccion: 553\n"
     ]
    }
   ],
   "source": [
    "print(f\"Valores nulos edad: {df['Edad'].isnull().sum()}\")\n",
    "print(f\"Valores nulos genero: {df['Genero'].isnull().sum()}\")\n",
    "print(f\"Valores nulos aldo: {df['Saldo'].isnull().sum()}\")\n",
    "print(f\"Valores nulos activo: {df['Activo'].isnull().sum()}\")\n",
    "print(f\"Valores nulos nivel de satisfaccion: {df['Nivel_de_Satisfaccion'].isnull().sum()}\")"
   ]
  },
  {
   "cell_type": "code",
   "execution_count": 16,
   "id": "9e9b79e3-95b4-416f-a24b-e675074ed7a8",
   "metadata": {},
   "outputs": [
    {
     "name": "stdout",
     "output_type": "stream",
     "text": [
      "Valores nulos edad: 0\n",
      "Valores nulos genero: 0\n",
      "Valores nulos aldo: 0\n",
      "Valores nulos activo: 0\n",
      "Valores nulos nivel de satisfaccion: 0\n"
     ]
    }
   ],
   "source": [
    "df.fillna({'Edad': df['Edad'].mean()}, inplace=True)\n",
    "df.fillna({'Genero': df['Genero'].mode()[0]}, inplace=True)\n",
    "df.fillna({'Saldo': df['Saldo'].median()}, inplace=True)\n",
    "df.fillna({'Activo': df['Activo'].mode()[0]}, inplace=True)\n",
    "df.fillna({'Nivel_de_Satisfaccion': df['Nivel_de_Satisfaccion'].mean()}, inplace=True)\n",
    "\n",
    "\n",
    "print(f\"Valores nulos edad: {df['Edad'].isnull().sum()}\")\n",
    "print(f\"Valores nulos genero: {df['Genero'].isnull().sum()}\")\n",
    "print(f\"Valores nulos aldo: {df['Saldo'].isnull().sum()}\")\n",
    "print(f\"Valores nulos activo: {df['Activo'].isnull().sum()}\")\n",
    "print(f\"Valores nulos nivel de satisfaccion: {df['Nivel_de_Satisfaccion'].isnull().sum()}\")"
   ]
  },
  {
   "cell_type": "code",
   "execution_count": 17,
   "id": "533be673-bc19-4d50-ad81-0321a141fa42",
   "metadata": {},
   "outputs": [
    {
     "name": "stdout",
     "output_type": "stream",
     "text": [
      "<class 'pandas.core.frame.DataFrame'>\n",
      "RangeIndex: 5500 entries, 0 to 5499\n",
      "Data columns (total 6 columns):\n",
      " #   Column                 Non-Null Count  Dtype  \n",
      "---  ------                 --------------  -----  \n",
      " 0   Cliente_ID             5500 non-null   int64  \n",
      " 1   Edad                   5500 non-null   int64  \n",
      " 2   Genero                 5500 non-null   object \n",
      " 3   Saldo                  5500 non-null   float64\n",
      " 4   Activo                 5500 non-null   int64  \n",
      " 5   Nivel_de_Satisfaccion  5500 non-null   int64  \n",
      "dtypes: float64(1), int64(4), object(1)\n",
      "memory usage: 257.9+ KB\n",
      "None\n"
     ]
    }
   ],
   "source": [
    "df['Edad'] = df['Edad'].astype(int)\n",
    "df['Activo'] = df['Activo'].astype(int)\n",
    "df['Nivel_de_Satisfaccion'] = df['Nivel_de_Satisfaccion'].astype(int)\n",
    "\n",
    "print(df.info())\n"
   ]
  },
  {
   "cell_type": "code",
   "execution_count": null,
   "id": "888ec62f-a672-4d3a-a8e4-b2b9508755de",
   "metadata": {},
   "outputs": [],
   "source": [
    "df.to_csv('./res/clientes_banco_clean_data.csv', index=False, encoding=\"utf-8\", sep=\",\")"
   ]
  },
  {
   "cell_type": "code",
   "execution_count": null,
   "id": "af14d5a5-b0d2-4089-8c07-e8f538d200fc",
   "metadata": {},
   "outputs": [],
   "source": [
    "'''\n",
    "Una vez creado el modelo de django y las migraciones a la base de datos esten hechas, \n",
    "se ejecuta este script para importar los datos en la base de datos del proyecto.\n",
    "'''\n",
    "\n",
    "import sqlite3\n",
    "import csv\n",
    "\n",
    "conn = sqlite3.connect('db.sqlite3')\n",
    "cursor = conn.cursor()\n",
    "\n",
    "with open('../res/clientes_banco_clean_data.csv', 'r') as file:\n",
    "    reader = csv.reader(file)\n",
    "    header = next(reader)\n",
    "\n",
    "    cursor.executemany('''\n",
    "        INSERT INTO restapi_cliente (id_cliente, edad, genero, saldo, estado_actividad, nivel_satisfaccion) \n",
    "        VALUES (?, ?, ?, ?, ?, ?)\n",
    "    ''', reader)\n",
    "\n",
    "conn.commit()\n",
    "conn.close()\n"
   ]
  }
 ],
 "metadata": {
  "kernelspec": {
   "display_name": "Python 3 (ipykernel)",
   "language": "python",
   "name": "python3"
  },
  "language_info": {
   "codemirror_mode": {
    "name": "ipython",
    "version": 3
   },
   "file_extension": ".py",
   "mimetype": "text/x-python",
   "name": "python",
   "nbconvert_exporter": "python",
   "pygments_lexer": "ipython3",
   "version": "3.12.7"
  }
 },
 "nbformat": 4,
 "nbformat_minor": 5
}
